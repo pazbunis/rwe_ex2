{
 "cells": [
  {
   "cell_type": "markdown",
   "metadata": {},
   "source": [
    "# Impact of HbA1c Measurement on Hospital Readmission Rates: Analysis of 70,000 Clinical Database Patient Records\n",
    "\n",
    "#### Created by: \n",
    "Paz Bunis (pazbunis@gmail.com)\n",
    "#### based on:\n",
    "Beata Strack, Jonathan P. DeShazo, Chris Gennings, et al., “Impact of HbA1c\n",
    "Measurement on Hospital Readmission Rates: Analysis of 70,000 Clinical Database\n",
    "Patient Records,” BioMed Research International, vol. 2014, 11 pages, 2014."
   ]
  },
  {
   "cell_type": "markdown",
   "metadata": {},
   "source": [
    "## 0. Imports and Initialization"
   ]
  },
  {
   "cell_type": "code",
   "execution_count": 11,
   "metadata": {
    "collapsed": false,
    "scrolled": true
   },
   "outputs": [],
   "source": [
    "from matplotlib import style as style\n",
    "import matplotlib.pyplot as plt\n",
    "%matplotlib inline\n",
    "style.use('ggplot')\n",
    "import pandas as pd\n",
    "import numpy as np\n",
    "import scipy.stats as stats\n",
    "from kmodes import kmodes\n",
    "encounters = pd.read_csv('dataset/diabetic_data.csv')\n",
    "msk = np.random.rand(len(encounters)) < 0.9\n",
    "encounters_train = encounters[msk]\n",
    "encounters_test = encounters[~msk]"
   ]
  },
  {
   "cell_type": "markdown",
   "metadata": {},
   "source": [
    "## 1. Descriptive Statistics\n",
    "### 1.1. Gender vs. other attributes"
   ]
  },
  {
   "cell_type": "markdown",
   "metadata": {},
   "source": [
    "#### 1.1.1. Gender vs. Age"
   ]
  },
  {
   "cell_type": "code",
   "execution_count": 3,
   "metadata": {
    "collapsed": false
   },
   "outputs": [
    {
     "ename": "AttributeError",
     "evalue": "'function' object has no attribute 'bar'",
     "output_type": "error",
     "traceback": [
      "\u001b[1;31m---------------------------------------------------------------------------\u001b[0m",
      "\u001b[1;31mAttributeError\u001b[0m                            Traceback (most recent call last)",
      "\u001b[1;32m<ipython-input-3-62f6098dbf60>\u001b[0m in \u001b[0;36m<module>\u001b[1;34m()\u001b[0m\n\u001b[0;32m      5\u001b[0m \u001b[0maxs\u001b[0m\u001b[1;33m[\u001b[0m\u001b[1;36m1\u001b[0m\u001b[1;33m]\u001b[0m\u001b[1;33m.\u001b[0m\u001b[0mset_ylabel\u001b[0m\u001b[1;33m(\u001b[0m\u001b[1;34m\"encounters\"\u001b[0m\u001b[1;33m)\u001b[0m\u001b[1;33m\u001b[0m\u001b[0m\n\u001b[0;32m      6\u001b[0m \u001b[0mfig\u001b[0m\u001b[1;33m.\u001b[0m\u001b[0mtight_layout\u001b[0m\u001b[1;33m(\u001b[0m\u001b[0mpad\u001b[0m\u001b[1;33m=\u001b[0m\u001b[1;36m4\u001b[0m\u001b[1;33m)\u001b[0m\u001b[1;33m\u001b[0m\u001b[0m\n\u001b[1;32m----> 7\u001b[1;33m \u001b[0mfemales_age_grouping\u001b[0m\u001b[1;33m.\u001b[0m\u001b[0mplot\u001b[0m\u001b[1;33m.\u001b[0m\u001b[0mbar\u001b[0m\u001b[1;33m(\u001b[0m\u001b[0max\u001b[0m \u001b[1;33m=\u001b[0m \u001b[0maxs\u001b[0m\u001b[1;33m[\u001b[0m\u001b[1;36m0\u001b[0m\u001b[1;33m]\u001b[0m\u001b[1;33m,\u001b[0m \u001b[0mtitle\u001b[0m \u001b[1;33m=\u001b[0m \u001b[1;34m'Females'\u001b[0m\u001b[1;33m)\u001b[0m\u001b[1;33m\u001b[0m\u001b[0m\n\u001b[0m\u001b[0;32m      8\u001b[0m \u001b[0mmales_age_grouping\u001b[0m\u001b[1;33m.\u001b[0m\u001b[0mplot\u001b[0m\u001b[1;33m.\u001b[0m\u001b[0mbar\u001b[0m\u001b[1;33m(\u001b[0m\u001b[0max\u001b[0m \u001b[1;33m=\u001b[0m \u001b[0maxs\u001b[0m\u001b[1;33m[\u001b[0m\u001b[1;36m1\u001b[0m\u001b[1;33m]\u001b[0m\u001b[1;33m,\u001b[0m \u001b[0mtitle\u001b[0m \u001b[1;33m=\u001b[0m \u001b[1;34m'Males'\u001b[0m\u001b[1;33m,\u001b[0m \u001b[0mcolor\u001b[0m\u001b[1;33m=\u001b[0m\u001b[1;34m'b'\u001b[0m\u001b[1;33m)\u001b[0m\u001b[1;33m\u001b[0m\u001b[0m\n",
      "\u001b[1;31mAttributeError\u001b[0m: 'function' object has no attribute 'bar'"
     ]
    },
    {
     "data": {
      "image/png": "[encoded data removed]",
      "text/plain": [
       "<matplotlib.figure.Figure at 0x5748e48>"
      ]
     },
     "metadata": {},
     "output_type": "display_data"
    }
   ],
   "source": [
    "females_age_grouping = encounters_train[encounters_train.gender == 'Female'].groupby('age').size()\n",
    "males_age_grouping = encounters_train[encounters_train.gender == 'Male'].groupby('age').size()\n",
    "fig, axs = plt.subplots(1,2, figsize=(9,3))\n",
    "axs[0].set_ylabel(\"encounters\")\n",
    "axs[1].set_ylabel(\"encounters\")\n",
    "fig.tight_layout(pad=4)\n",
    "females_age_grouping.plot.bar(ax = axs[0], title = 'Females')\n",
    "males_age_grouping.plot.bar(ax = axs[1], title = 'Males', color='b')"
   ]
  },
  {
   "cell_type": "markdown",
   "metadata": {},
   "source": [
    "#### 1.1.2. Gender vs. Race"
   ]
  },
  {
   "cell_type": "code",
   "execution_count": null,
   "metadata": {
    "collapsed": false
   },
   "outputs": [],
   "source": [
    "females_race_grouping = encounters_train[encounters_train.gender == 'Female'].groupby('race').size()\n",
    "males_race_grouping = encounters_train[encounters_train.gender == 'Male'].groupby('race').size()\n",
    "fig, axs = plt.subplots(1,2, figsize=(9,3))\n",
    "axs[0].set_ylabel(\"encounters\")\n",
    "axs[1].set_ylabel(\"encounters\")\n",
    "fig.tight_layout(pad=4)\n",
    "females_race_grouping.plot.bar(ax = axs[0], title = 'Females')\n",
    "males_race_grouping.plot.bar(ax = axs[1], title = 'Males', color='b')"
   ]
  },
  {
   "cell_type": "markdown",
   "metadata": {},
   "source": [
    "#### 1.1.3. Gender vs. Readmission Value"
   ]
  },
  {
   "cell_type": "code",
   "execution_count": null,
   "metadata": {
    "collapsed": false
   },
   "outputs": [],
   "source": [
    "females_readmission_grouping = encounters_train[encounters_train.gender == 'Female'].groupby('readmitted').size()\n",
    "males_readmission_grouping = encounters_train[encounters_train.gender == 'Male'].groupby('readmitted').size()\n",
    "fig, axs = plt.subplots(1,2, figsize=(9,3))\n",
    "axs[0].set_ylabel(\"encounters\")\n",
    "axs[1].set_ylabel(\"encounters\")\n",
    "fig.tight_layout(pad=4)\n",
    "females_readmission_grouping.plot.bar(ax = axs[0], title = 'Females')\n",
    "males_readmission_grouping.plot.bar(ax = axs[1], title = 'Males', color='b')"
   ]
  },
  {
   "cell_type": "markdown",
   "metadata": {},
   "source": [
    "#### 1.1.4. Gender vs. Most Frequently Used ICD-9 Codes\n",
    "(All three diagnosis types are combined to one column)"
   ]
  },
  {
   "cell_type": "code",
   "execution_count": null,
   "metadata": {
    "collapsed": false
   },
   "outputs": [],
   "source": [
    "fem_diags_projection = encounters_train[encounters_train.gender == 'Female'][['diag_1', 'diag_2', 'diag_3']]\n",
    "fem_diags_arr = [fem_diags_projection[['diag_1']],fem_diags_projection[['diag_2']],fem_diags_projection[['diag_3']]]\n",
    "fem_comb_diags = pd.concat(fem_diags_arr, axis=1).stack().reset_index(drop=True)\n",
    "\n",
    "male_diags_projection = encounters_train[encounters_train.gender == 'Male'][['diag_1', 'diag_2', 'diag_3']]\n",
    "male_diags_arr = [male_diags_projection[['diag_1']],male_diags_projection[['diag_2']],male_diags_projection[['diag_3']]]\n",
    "male_comb_diags = pd.concat(male_diags_arr, axis=1).stack().reset_index(drop=True)\n",
    "\n",
    "fig, axs = plt.subplots(1,2, figsize=(9,4))\n",
    "axs[0].set_ylabel(\"encounters\")\n",
    "axs[0].set_xlabel(\"ICD-9 Code\")\n",
    "axs[1].set_ylabel(\"encounters\")\n",
    "axs[1].set_xlabel(\"ICD-9 Code\")\n",
    "fig.tight_layout(pad=4)\n",
    "fem_comb_diags.value_counts().head().plot.bar(ax = axs[0], title = 'Females')\n",
    "male_comb_diags.value_counts().head().plot.bar(ax = axs[1], title = 'Males', color='b')"
   ]
  },
  {
   "cell_type": "markdown",
   "metadata": {},
   "source": [
    "### 1.2. Days in Hospital and A1c Test Results"
   ]
  },
  {
   "cell_type": "markdown",
   "metadata": {},
   "source": [
    "#### 1.2.1. Days in Hospital vs. Gender"
   ]
  },
  {
   "cell_type": "code",
   "execution_count": null,
   "metadata": {
    "collapsed": false
   },
   "outputs": [],
   "source": [
    "females_hospital_time_grouping = encounters_train[encounters_train.gender == 'Female'].groupby('time_in_hospital').size()\n",
    "males_hospital_time_grouping = encounters_train[encounters_train.gender == 'Male'].groupby('time_in_hospital').size()\n",
    "fig, axs = plt.subplots(1,2, figsize=(9,3))\n",
    "axs[0].set_ylabel(\"encounters\")\n",
    "axs[0].set_xlabel(\"days\")\n",
    "axs[1].set_ylabel(\"encounters\")\n",
    "axs[1].set_xlabel(\"days\")\n",
    "\n",
    "fig.tight_layout(pad=4)\n",
    "females_hospital_time_grouping.plot.bar(ax = axs[0], title = 'Females')\n",
    "males_hospital_time_grouping.plot.bar(ax = axs[1], title = 'Males', color='b')"
   ]
  },
  {
   "cell_type": "markdown",
   "metadata": {},
   "source": [
    "#### 1.2.2. Days in Hospital vs. Age Group"
   ]
  },
  {
   "cell_type": "code",
   "execution_count": null,
   "metadata": {
    "collapsed": false
   },
   "outputs": [],
   "source": [
    "age_group1= encounters_train[encounters_train.age.isin(['[0-10)','[10-20)', '[20-30)', '[30-40)'])]\n",
    "age_group2= encounters_train[encounters_train.age.isin(['[40-50)', '[50-60)', '[60-70)'])]\n",
    "age_group3= encounters_train[encounters_train.age.isin(['[70-80)', '[80-90), [90-100)'])]\n",
    "group1_hospital_time = age_group1.groupby('time_in_hospital').size()\n",
    "group2_hospital_time = age_group2.groupby('time_in_hospital').size()\n",
    "group3_hospital_time = age_group3.groupby('time_in_hospital').size()\n",
    "\n",
    "fig, axs = plt.subplots(1,3, figsize=(9,3))\n",
    "# axs[0].set_ylabel(\"encounters\")\n",
    "# axs[0].set_xlabel(\"days\")\n",
    "# axs[1].set_ylabel(\"encounters\")\n",
    "# axs[1].set_xlabel(\"days\")\n",
    "\n",
    "fig.tight_layout(pad=4)\n",
    "group1_hospital_time.plot.bar(ax = axs[0], title = '[0-40)')\n",
    "group2_hospital_time.plot.bar(ax = axs[1], title = '[40-70)')\n",
    "group3_hospital_time.plot.bar(ax = axs[2], title = '[70-100)')"
   ]
  },
  {
   "cell_type": "markdown",
   "metadata": {},
   "source": [
    "#### 1.2.3. A1c test results vs. Gender"
   ]
  },
  {
   "cell_type": "code",
   "execution_count": null,
   "metadata": {
    "collapsed": false
   },
   "outputs": [],
   "source": [
    "females_A1C_grouping = encounters_train[encounters_train.gender == 'Female'].groupby('A1Cresult').size()\n",
    "males_A1C_grouping = encounters_train[encounters_train.gender == 'Male'].groupby('A1Cresult').size()\n",
    "fig, axs = plt.subplots(1,2, figsize=(9,3))\n",
    "axs[0].set_ylabel(\"encounters\")\n",
    "axs[0].set_xlabel(\"days\")\n",
    "axs[1].set_ylabel(\"encounters\")\n",
    "axs[1].set_xlabel(\"days\")\n",
    "\n",
    "fig.tight_layout(pad=4)\n",
    "females_A1C_grouping.plot.bar(ax = axs[0], title = 'Females')\n",
    "males_A1C_grouping.plot.bar(ax = axs[1], title = 'Males', color='b')"
   ]
  },
  {
   "cell_type": "markdown",
   "metadata": {},
   "source": [
    "#### 1.2.4. A1c test results vs. Age Group"
   ]
  },
  {
   "cell_type": "code",
   "execution_count": null,
   "metadata": {
    "collapsed": false
   },
   "outputs": [],
   "source": [
    "age_group1= encounters_train[encounters_train.age.isin(['[0-10)','[10-20)', '[20-30)', '[30-40)'])]\n",
    "age_group2= encounters_train[encounters_train.age.isin(['[40-50)', '[50-60)', '[60-70)'])]\n",
    "age_group3= encounters_train[encounters_train.age.isin(['[70-80)', '[80-90), [90-100)'])]\n",
    "group1_hospital_time = age_group1.groupby('A1Cresult').size()\n",
    "group2_hospital_time = age_group2.groupby('A1Cresult').size()\n",
    "group3_hospital_time = age_group3.groupby('A1Cresult').size()\n",
    "\n",
    "fig, axs = plt.subplots(1,3, figsize=(9,3))\n",
    "# axs[0].set_ylabel(\"encounters\")\n",
    "# axs[0].set_xlabel(\"days\")\n",
    "# axs[1].set_ylabel(\"encounters\")\n",
    "# axs[1].set_xlabel(\"days\")\n",
    "\n",
    "fig.tight_layout(pad=4)\n",
    "group1_hospital_time.plot.bar(ax = axs[0], title = '[0-40)')\n",
    "group2_hospital_time.plot.bar(ax = axs[1], title = '[40-70)')\n",
    "group3_hospital_time.plot.bar(ax = axs[2], title = '[70-100)')"
   ]
  },
  {
   "cell_type": "markdown",
   "metadata": {},
   "source": [
    "### 1.3. Other Results"
   ]
  },
  {
   "cell_type": "code",
   "execution_count": null,
   "metadata": {
    "collapsed": true
   },
   "outputs": [],
   "source": [
    "# TODO: add more Descriptive Statistics"
   ]
  },
  {
   "cell_type": "markdown",
   "metadata": {},
   "source": [
    "## 2. Hypothesis Testing"
   ]
  },
  {
   "cell_type": "markdown",
   "metadata": {},
   "source": [
    "### 2.1. Is Testing HbA1c  Associated With a Reduced Rate of Readmission?\n",
    "Our null hypothesis $H_0$ is that there is no correlation between the HbA1c test and the rate of readmission.\n",
    "In order to test this, we will use the Fisher exact test and the Chi-square test (which is supposed to be better for larger numbers)."
   ]
  },
  {
   "cell_type": "code",
   "execution_count": 41,
   "metadata": {
    "collapsed": false
   },
   "outputs": [
    {
     "name": "stdout",
     "output_type": "stream",
     "text": [
      "readmitted  readmitted  not_readmitted    All\n",
      "A1Cresult                                    \n",
      ">7                 337            3097   3434\n",
      ">8                 734            6710   7444\n",
      "None              8720           67617  76337\n",
      "Norm               433            4033   4466\n",
      "All              10224           81457  91681\n"
     ]
    }
   ],
   "source": [
    "proj = encounters_train[['A1Cresult', 'readmitted']]\n",
    "ct = pd.crosstab(proj.A1Cresult, proj.readmitted, margins=True)\n",
    "ct['readmitted'] = ct['<30'] \n",
    "ct['not_readmitted'] = ct['>30'] + ct['NO']\n",
    "ct = ct[['readmitted', 'not_readmitted', 'All']]\n",
    "N_readmitted_tested = ct.readmitted.All - ct.readmitted['None']\n",
    "N_readmitted_not_tested = ct.readmitted['None']\n",
    "N_not_readmitted_tested = ct.not_readmitted.All - ct.not_readmitted['None']\n",
    "N_not_readmitted_not_tested = ct.not_readmitted['None']\n",
    "\n",
    "print(ct)"
   ]
  },
  {
   "cell_type": "markdown",
   "metadata": {},
   "source": [
    "####  Fisher Exact Test "
   ]
  },
  {
   "cell_type": "code",
   "execution_count": null,
   "metadata": {
    "collapsed": false,
    "scrolled": true
   },
   "outputs": [],
   "source": [
    "contingency_table = [[N_readmitted_tested, N_readmitted_not_tested],[N_not_readmitted_tested, N_not_readmitted_not_tested]]\n",
    "odds_ratio, p_val = scipy.stats.fisher_exact(contingency_table)\n",
    "print('Odds ratio: ' + str(odds_ratio))\n",
    "print('P-value: ' + str(p_val))"
   ]
  },
  {
   "cell_type": "markdown",
   "metadata": {},
   "source": [
    "As we see here, we get $p < 0.001$ and an odds-ratio which is significantly lower than 1, so we should reject the null hypothesis.\n"
   ]
  },
  {
   "cell_type": "markdown",
   "metadata": {},
   "source": [
    "####  Chi-Square Test"
   ]
  },
  {
   "cell_type": "code",
   "execution_count": null,
   "metadata": {
    "collapsed": false
   },
   "outputs": [],
   "source": [
    "statistic, p_val, _, _ =scipy.stats.chi2_contingency(contingency_table, correction=True)\n",
    "print('Statistic value: ' + str(statistic))\n",
    "print('P-value: ' + str(p_val))"
   ]
  },
  {
   "cell_type": "markdown",
   "metadata": {},
   "source": [
    "We got a high $\\chi^2$ value and $p < 0.001$, so we again conclude that we should reject the null hypothesis."
   ]
  },
  {
   "cell_type": "markdown",
   "metadata": {},
   "source": [
    "### 2.2. Is Drug Prescription or Dosage Change Associated With a Reduced Rate of Readmission? \n"
   ]
  },
  {
   "cell_type": "markdown",
   "metadata": {},
   "source": [
    "Our null hypothesis  $H_0$  is that there is no correlation between drug prescription or dosage change and the rate of readmission. \n",
    "As before, we use the Fisher exact test and the Chi-square test for added robustness. "
   ]
  },
  {
   "cell_type": "code",
   "execution_count": 5,
   "metadata": {
    "collapsed": false
   },
   "outputs": [
    {
     "name": "stdout",
     "output_type": "stream",
     "text": [
      "readmitted           readmitted  not_readmitted    All\n",
      "prescribed_or_upped                                   \n",
      "False                      2018           19058  21076\n",
      "True                       8135           62348  70483\n",
      "All                       10153           81406  91559\n"
     ]
    }
   ],
   "source": [
    "drug_change_columns = ['metformin', 'repaglinide', 'nateglinide', 'chlorpropamide', 'glimepiride', 'acetohexamide', \n",
    "                       'glipizide', 'glyburide', 'tolbutamide', 'pioglitazone', 'rosiglitazone', 'acarbose', \n",
    "                       'miglitol', 'troglitazone', 'tolazamide', 'examide', 'citoglipton', 'insulin', \n",
    "                       'glyburide-metformin', 'glipizide-metformin', 'glimepiride-pioglitazone', \n",
    "                       'metformin-rosiglitazone', 'metformin-pioglitazone', 'diabetesMed']\n",
    "drug_df = encounters_train[drug_change_columns]\n",
    "indicators = drug_df.apply(lambda x: (\"Up\" in x) or (x.diabetesMed == \"Yes\"), axis=1) \n",
    "df = pd.DataFrame(data = {'prescribed_or_upped': indicators, 'readmitted': encounters_train['readmitted']})\n",
    "ct = pd.crosstab(df.prescribed_or_upped, df.readmitted, margins=True)\n",
    "ct['readmitted'] = ct['<30'] \n",
    "ct['not_readmitted'] = ct['>30'] + ct['NO']\n",
    "ct = ct[['readmitted', 'not_readmitted', 'All']]\n",
    "print(ct)\n",
    "N_readmitted_prescribed_or_upped = ct.readmitted[True]\n",
    "N_readmitted_not_prescribed_or_upped = ct.readmitted[False]\n",
    "N_not_readmitted_prescribed_or_upped = ct.not_readmitted[True]\n",
    "N_not_readmitted_not_prescribed_or_upped = ct.not_readmitted[False]"
   ]
  },
  {
   "cell_type": "markdown",
   "metadata": {},
   "source": [
    "####  Fisher Exact Test"
   ]
  },
  {
   "cell_type": "code",
   "execution_count": 6,
   "metadata": {
    "collapsed": false
   },
   "outputs": [
    {
     "name": "stdout",
     "output_type": "stream",
     "text": [
      "Odds ratio: 1.23222833531\n",
      "P-value: 5.8275001429e-16\n"
     ]
    }
   ],
   "source": [
    "contingency_table = [[N_readmitted_prescribed_or_upped, N_readmitted_not_prescribed_or_upped],\n",
    "                     [N_not_readmitted_prescribed_or_upped, N_not_readmitted_not_prescribed_or_upped]]\n",
    "odds_ratio, p_val = stats.fisher_exact(contingency_table)\n",
    "print('Odds ratio: ' + str(odds_ratio))\n",
    "print('P-value: ' + str(p_val))"
   ]
  },
  {
   "cell_type": "markdown",
   "metadata": {},
   "source": [
    "As we see here, we get $p < 0.001$ and an odds-ratio which is significantly higher than 1, so we should reject the null hypothesis."
   ]
  },
  {
   "cell_type": "markdown",
   "metadata": {},
   "source": [
    "####  Chi-Square Test"
   ]
  },
  {
   "cell_type": "code",
   "execution_count": 7,
   "metadata": {
    "collapsed": false
   },
   "outputs": [
    {
     "name": "stdout",
     "output_type": "stream",
     "text": [
      "Statistic value: 63.4648847116\n",
      "P-value: 1.63251172905e-15\n"
     ]
    }
   ],
   "source": [
    "statistic, p_val, _, _ = stats.chi2_contingency(contingency_table, correction=True)\n",
    "print('Statistic value: ' + str(statistic))\n",
    "print('P-value: ' + str(p_val))"
   ]
  },
  {
   "cell_type": "markdown",
   "metadata": {},
   "source": [
    "We got a high $\\chi^2$ value and $p < 0.001$, so we again conclude that we should reject the null hypothesis."
   ]
  },
  {
   "cell_type": "markdown",
   "metadata": {},
   "source": [
    "## 3.Clustering and Similarity"
   ]
  },
  {
   "cell_type": "markdown",
   "metadata": {},
   "source": [
    "### 3.1. Defining a Metric "
   ]
  },
  {
   "cell_type": "markdown",
   "metadata": {},
   "source": [
    "Since we are going to cluster categorical data, a logical choice is to use the K-Modes algorithm.\n",
    "The specificts are at:\n",
    "\n",
    "    (1, 2) Huang, Z.: Clustering large data sets with mixed numeric and categorical values, Proceedings of the First Pacific Asia Knowledge Discovery and Data Mining Conference, Singapore, pp. 21-34, 1997.\n"
   ]
  },
  {
   "cell_type": "code",
   "execution_count": 103,
   "metadata": {
    "collapsed": false
   },
   "outputs": [
    {
     "name": "stdout",
     "output_type": "stream",
     "text": [
      "       A1Cres readmitted\n",
      "count   91624      91624\n",
      "unique      4          3\n",
      "top      None         NO\n",
      "freq    76294      49325\n",
      "[[2 2]\n",
      " [2 2]\n",
      " [2 2]\n",
      " ..., \n",
      " [2 1]\n",
      " [2 2]\n",
      " [2 2]]\n",
      "Init: initializing centroids\n"
     ]
    },
    {
     "ename": "KeyboardInterrupt",
     "evalue": "",
     "output_type": "error",
     "traceback": [
      "\u001b[1;31m---------------------------------------------------------------------------\u001b[0m",
      "\u001b[1;31mKeyboardInterrupt\u001b[0m                         Traceback (most recent call last)",
      "\u001b[1;32m<ipython-input-103-11931d5d176b>\u001b[0m in \u001b[0;36m<module>\u001b[1;34m()\u001b[0m\n\u001b[0;32m     21\u001b[0m \u001b[1;31m# print(s)\u001b[0m\u001b[1;33m\u001b[0m\u001b[1;33m\u001b[0m\u001b[0m\n\u001b[0;32m     22\u001b[0m \u001b[0mkm\u001b[0m \u001b[1;33m=\u001b[0m \u001b[0mkmodes\u001b[0m\u001b[1;33m.\u001b[0m\u001b[0mKModes\u001b[0m\u001b[1;33m(\u001b[0m\u001b[0mn_clusters\u001b[0m\u001b[1;33m=\u001b[0m\u001b[1;36m4\u001b[0m\u001b[1;33m,\u001b[0m \u001b[0minit\u001b[0m\u001b[1;33m=\u001b[0m\u001b[1;34m'Huang'\u001b[0m\u001b[1;33m,\u001b[0m \u001b[0mn_init\u001b[0m\u001b[1;33m=\u001b[0m\u001b[1;36m1\u001b[0m\u001b[1;33m,\u001b[0m \u001b[0mverbose\u001b[0m\u001b[1;33m=\u001b[0m\u001b[1;36m1\u001b[0m\u001b[1;33m)\u001b[0m\u001b[1;33m\u001b[0m\u001b[0m\n\u001b[1;32m---> 23\u001b[1;33m \u001b[0mclusters\u001b[0m \u001b[1;33m=\u001b[0m \u001b[0mkm\u001b[0m\u001b[1;33m.\u001b[0m\u001b[0mfit_predict\u001b[0m\u001b[1;33m(\u001b[0m\u001b[0mt\u001b[0m\u001b[1;33m)\u001b[0m\u001b[1;33m\u001b[0m\u001b[0m\n\u001b[0m\u001b[0;32m     24\u001b[0m \u001b[1;33m\u001b[0m\u001b[0m\n\u001b[0;32m     25\u001b[0m \u001b[1;31m# km = kmodes.KModes(n_clusters=4, n_init=5, verbose=1)\u001b[0m\u001b[1;33m\u001b[0m\u001b[1;33m\u001b[0m\u001b[0m\n",
      "\u001b[1;32mC:\\Anaconda3\\lib\\site-packages\\kmodes\\kmodes.py\u001b[0m in \u001b[0;36mfit_predict\u001b[1;34m(self, X, y, **kwargs)\u001b[0m\n\u001b[0;32m    343\u001b[0m         \u001b[0mpredict\u001b[0m\u001b[1;33m(\u001b[0m\u001b[0mX\u001b[0m\u001b[1;33m)\u001b[0m\u001b[1;33m.\u001b[0m\u001b[1;33m\u001b[0m\u001b[0m\n\u001b[0;32m    344\u001b[0m         \"\"\"\n\u001b[1;32m--> 345\u001b[1;33m         \u001b[1;32mreturn\u001b[0m \u001b[0mself\u001b[0m\u001b[1;33m.\u001b[0m\u001b[0mfit\u001b[0m\u001b[1;33m(\u001b[0m\u001b[0mX\u001b[0m\u001b[1;33m,\u001b[0m \u001b[1;33m**\u001b[0m\u001b[0mkwargs\u001b[0m\u001b[1;33m)\u001b[0m\u001b[1;33m.\u001b[0m\u001b[0mlabels_\u001b[0m\u001b[1;33m\u001b[0m\u001b[0m\n\u001b[0m\u001b[0;32m    346\u001b[0m \u001b[1;33m\u001b[0m\u001b[0m\n\u001b[0;32m    347\u001b[0m     \u001b[1;32mdef\u001b[0m \u001b[0mpredict\u001b[0m\u001b[1;33m(\u001b[0m\u001b[0mself\u001b[0m\u001b[1;33m,\u001b[0m \u001b[0mX\u001b[0m\u001b[1;33m,\u001b[0m \u001b[1;33m**\u001b[0m\u001b[0mkwargs\u001b[0m\u001b[1;33m)\u001b[0m\u001b[1;33m:\u001b[0m\u001b[1;33m\u001b[0m\u001b[0m\n",
      "\u001b[1;32mC:\\Anaconda3\\lib\\site-packages\\kmodes\\kmodes.py\u001b[0m in \u001b[0;36mfit\u001b[1;34m(self, X, y, **kwargs)\u001b[0m\n\u001b[0;32m    334\u001b[0m                     \u001b[0mself\u001b[0m\u001b[1;33m.\u001b[0m\u001b[0mn_init\u001b[0m\u001b[1;33m,\u001b[0m\u001b[1;33m\u001b[0m\u001b[0m\n\u001b[0;32m    335\u001b[0m                     \u001b[0mself\u001b[0m\u001b[1;33m.\u001b[0m\u001b[0mmax_iter\u001b[0m\u001b[1;33m,\u001b[0m\u001b[1;33m\u001b[0m\u001b[0m\n\u001b[1;32m--> 336\u001b[1;33m                     self.verbose)\n\u001b[0m\u001b[0;32m    337\u001b[0m         \u001b[1;32mreturn\u001b[0m \u001b[0mself\u001b[0m\u001b[1;33m\u001b[0m\u001b[0m\n\u001b[0;32m    338\u001b[0m \u001b[1;33m\u001b[0m\u001b[0m\n",
      "\u001b[1;32mC:\\Anaconda3\\lib\\site-packages\\kmodes\\kmodes.py\u001b[0m in \u001b[0;36mk_modes\u001b[1;34m(X, n_clusters, init, n_init, max_iter, verbose)\u001b[0m\n\u001b[0;32m    186\u001b[0m             \u001b[0mprint\u001b[0m\u001b[1;33m(\u001b[0m\u001b[1;34m\"Init: initializing centroids\"\u001b[0m\u001b[1;33m)\u001b[0m\u001b[1;33m\u001b[0m\u001b[0m\n\u001b[0;32m    187\u001b[0m         \u001b[1;32mif\u001b[0m \u001b[0misinstance\u001b[0m\u001b[1;33m(\u001b[0m\u001b[0minit\u001b[0m\u001b[1;33m,\u001b[0m \u001b[0mstr\u001b[0m\u001b[1;33m)\u001b[0m \u001b[1;32mand\u001b[0m \u001b[0minit\u001b[0m \u001b[1;33m==\u001b[0m \u001b[1;34m'Huang'\u001b[0m\u001b[1;33m:\u001b[0m\u001b[1;33m\u001b[0m\u001b[0m\n\u001b[1;32m--> 188\u001b[1;33m             \u001b[0mcentroids\u001b[0m \u001b[1;33m=\u001b[0m \u001b[0minit_huang\u001b[0m\u001b[1;33m(\u001b[0m\u001b[0mX\u001b[0m\u001b[1;33m,\u001b[0m \u001b[0mn_clusters\u001b[0m\u001b[1;33m)\u001b[0m\u001b[1;33m\u001b[0m\u001b[0m\n\u001b[0m\u001b[0;32m    189\u001b[0m         \u001b[1;32melif\u001b[0m \u001b[0misinstance\u001b[0m\u001b[1;33m(\u001b[0m\u001b[0minit\u001b[0m\u001b[1;33m,\u001b[0m \u001b[0mstr\u001b[0m\u001b[1;33m)\u001b[0m \u001b[1;32mand\u001b[0m \u001b[0minit\u001b[0m \u001b[1;33m==\u001b[0m \u001b[1;34m'Cao'\u001b[0m\u001b[1;33m:\u001b[0m\u001b[1;33m\u001b[0m\u001b[0m\n\u001b[0;32m    190\u001b[0m             \u001b[0mcentroids\u001b[0m \u001b[1;33m=\u001b[0m \u001b[0minit_cao\u001b[0m\u001b[1;33m(\u001b[0m\u001b[0mX\u001b[0m\u001b[1;33m,\u001b[0m \u001b[0mn_clusters\u001b[0m\u001b[1;33m)\u001b[0m\u001b[1;33m\u001b[0m\u001b[0m\n",
      "\u001b[1;32mC:\\Anaconda3\\lib\\site-packages\\kmodes\\kmodes.py\u001b[0m in \u001b[0;36minit_huang\u001b[1;34m(X, n_clusters)\u001b[0m\n\u001b[0;32m     42\u001b[0m         \u001b[1;31m# We want the centroid to be unique.\u001b[0m\u001b[1;33m\u001b[0m\u001b[1;33m\u001b[0m\u001b[0m\n\u001b[0;32m     43\u001b[0m         \u001b[1;32mwhile\u001b[0m \u001b[0mnp\u001b[0m\u001b[1;33m.\u001b[0m\u001b[0mall\u001b[0m\u001b[1;33m(\u001b[0m\u001b[0mX\u001b[0m\u001b[1;33m[\u001b[0m\u001b[0mndx\u001b[0m\u001b[1;33m[\u001b[0m\u001b[1;36m0\u001b[0m\u001b[1;33m]\u001b[0m\u001b[1;33m]\u001b[0m \u001b[1;33m==\u001b[0m \u001b[0mcentroids\u001b[0m\u001b[1;33m,\u001b[0m \u001b[0maxis\u001b[0m\u001b[1;33m=\u001b[0m\u001b[1;36m1\u001b[0m\u001b[1;33m)\u001b[0m\u001b[1;33m.\u001b[0m\u001b[0many\u001b[0m\u001b[1;33m(\u001b[0m\u001b[1;33m)\u001b[0m\u001b[1;33m:\u001b[0m\u001b[1;33m\u001b[0m\u001b[0m\n\u001b[1;32m---> 44\u001b[1;33m             \u001b[0mndx\u001b[0m \u001b[1;33m=\u001b[0m \u001b[0mnp\u001b[0m\u001b[1;33m.\u001b[0m\u001b[0mdelete\u001b[0m\u001b[1;33m(\u001b[0m\u001b[0mndx\u001b[0m\u001b[1;33m,\u001b[0m \u001b[1;36m0\u001b[0m\u001b[1;33m)\u001b[0m\u001b[1;33m\u001b[0m\u001b[0m\n\u001b[0m\u001b[0;32m     45\u001b[0m         \u001b[0mcentroids\u001b[0m\u001b[1;33m[\u001b[0m\u001b[0mik\u001b[0m\u001b[1;33m]\u001b[0m \u001b[1;33m=\u001b[0m \u001b[0mX\u001b[0m\u001b[1;33m[\u001b[0m\u001b[0mndx\u001b[0m\u001b[1;33m[\u001b[0m\u001b[1;36m0\u001b[0m\u001b[1;33m]\u001b[0m\u001b[1;33m]\u001b[0m\u001b[1;33m\u001b[0m\u001b[0m\n\u001b[0;32m     46\u001b[0m \u001b[1;33m\u001b[0m\u001b[0m\n",
      "\u001b[1;32mC:\\Anaconda3\\lib\\site-packages\\numpy\\lib\\function_base.py\u001b[0m in \u001b[0;36mdelete\u001b[1;34m(arr, obj, axis)\u001b[0m\n",
      "\u001b[1;31mKeyboardInterrupt\u001b[0m: "
     ]
    }
   ],
   "source": [
    "# cluster_df = pd.DataFrame({'res': encounters_train[['A1Cresult']]}, dtype=\"category\")\n",
    "admission_type = encounters_train[['admission_type_id']]['admission_type_id'].astype(\"category\")\n",
    "diag_1 = encounters_train[['diag_1']]['diag_1'].astype(\"category\")\n",
    "diag_2 = encounters_train[['diag_2']]['diag_2'].astype(\"category\")\n",
    "diag_3 = encounters_train[['diag_3']]['diag_3'].astype(\"category\")\n",
    "A1Cres = encounters_train[['A1Cresult']]['A1Cresult'].astype(\"category\")\n",
    "readmitted = encounters_train[['readmitted']]['readmitted'].astype(\"category\")\n",
    "\n",
    "cols = {'admission_type': admission_type, 'diag_1': diag_1, 'diag_2': diag_2, 'diag_3': diag_3,\n",
    "        'A1Cres': A1Cres, 'readmitted': readmitted}\n",
    "cluster_df = pd.DataFrame(data = , dtype=\"category\")\n",
    "print(cluster_df.describe())\n",
    "\n",
    "c1 = np.array(cluster_df.admission_type.cat.codes)\n",
    "c2 = np.array(cluster_df.diag_1.cat.codes)\n",
    "c3 = np.array(cluster_df.diag_2.cat.codes)\n",
    "c4 = np.array(cluster_df.diag_3.cat.codes)\n",
    "c5 = np.array(cluster_df.A1Cres.cat.codes)\n",
    "c6 = np.array(cluster_df.readmitted.cat.codes)\n",
    "\n",
    "\n",
    "c3 = np.array(cluster_df.readmitted.cat.codes)\n",
    "t = np.matrix([c1, c2]).reshape(-1,2)\n",
    "print(t)\n",
    "\n",
    "# s = [[cluster_df.A1Cres.cat.codes[i]] for i in range(16)]\n",
    "# print(vals)\n",
    "# cluster_df\n",
    "# raw_cat = pd.Categorical(encounters_train[['A1Cresult']], categories=[\"b\",\"c\",\"d\"],\n",
    "# s = [str(v) for v in cluster_df.A1Cresult]\n",
    "# np.(s)\n",
    "\n",
    "# print(s)\n",
    "km = kmodes.KModes(n_clusters=4, init='Huang', n_init=1, verbose=1)\n",
    "clusters = km.fit_predict(t)\n",
    "\n",
    "# km = kmodes.KModes(n_clusters=4, n_init=5, verbose=1)\n",
    "\n",
    "# clusters = km.fit_predict(vals)\n",
    "print(km.cluster_centroids_)\n"
   ]
  }
 ],
 "metadata": {
  "kernelspec": {
   "display_name": "Python 3",
   "language": "python",
   "name": "python3"
  },
  "language_info": {
   "codemirror_mode": {
    "name": "ipython",
    "version": 3
   },
   "file_extension": ".py",
   "mimetype": "text/x-python",
   "name": "python",
   "nbconvert_exporter": "python",
   "pygments_lexer": "ipython3",
   "version": "3.4.5"
  }
 },
 "nbformat": 4,
 "nbformat_minor": 1
}
